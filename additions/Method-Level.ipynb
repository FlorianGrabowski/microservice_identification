{
 "cells": [
  {
   "cell_type": "code",
   "execution_count": null,
   "metadata": {
    "collapsed": true
   },
   "outputs": [],
   "source": [
    "import random\n",
    "import matplotlib.pyplot as plt\n",
    "import json\n",
    "import networkx as nx\n",
    "from util.graph_util import GraphUtil"
   ]
  },
  {
   "cell_type": "code",
   "execution_count": null,
   "outputs": [],
   "source": [
    "filename = \"../data/JavaFX-Point-of-Sales_invocations.json\""
   ],
   "metadata": {
    "collapsed": false
   }
  },
  {
   "cell_type": "code",
   "execution_count": null,
   "outputs": [],
   "source": [
    "with open(filename, \"r\") as f:\n",
    "    data = json.loads(f.read())\n",
    "entities = data['pdg']['entities']\n",
    "relations = data['pdg']['relations']\n",
    "\n",
    "entities_dict = {entity['entityId']: entity for entity in entities}"
   ],
   "metadata": {
    "collapsed": false
   }
  },
  {
   "cell_type": "code",
   "execution_count": null,
   "outputs": [],
   "source": [
    "gu = GraphUtil(\"PYTHON_2\")\n",
    "MG_ORM = gu.build_program_dependency_graph(\n",
    "                                    entities,\n",
    "                                    relations,\n",
    "                                    allowed_entity_types=[],\n",
    "                                    allowed_relation_types=['ORM'],\n",
    "                                    entity_attributes=[gu.ENTITY_ID, gu.ENTITY_TYPE, gu.ENTITY_FQN],\n",
    "                                    directed=True,\n",
    "                                    isolated_nodes=True,\n",
    "                                    self_loops=False,\n",
    "                                    weight=\"weight\",\n",
    "                                    multi_edges=True)\n",
    "\n",
    "allowed_types = ['CLASS', 'INTERFACE']\n",
    "\n",
    "allowed_types_set = set()\n",
    "for(entity_id) in entities_dict:\n",
    "    if entities_dict[entity_id]['entityType'] in allowed_types:\n",
    "        allowed_types_set.add(entity_id)\n",
    "print('allowed_types_set: ' + repr(allowed_types_set))"
   ],
   "metadata": {
    "collapsed": false
   }
  },
  {
   "cell_type": "code",
   "execution_count": null,
   "outputs": [],
   "source": [
    "persistent_set = set()\n",
    "for (entity_id) in entities_dict:\n",
    "    if len(MG_ORM.edges(entity_id, data=True)) > 0:\n",
    "        persistent_set.add(entity_id)\n",
    "persistent_set.intersection_update(allowed_types_set)\n",
    "print('persistent_set: ' + repr(persistent_set))\n",
    "for e in persistent_set:\n",
    "    print(entities_dict.get(e)['entityFullQualifiedName'])"
   ],
   "metadata": {
    "collapsed": false
   }
  },
  {
   "cell_type": "code",
   "execution_count": null,
   "outputs": [],
   "source": [
    "crud_dict:dict = {}\n",
    "for r in relations:\n",
    "    if not r['from'] == r['to'] and r['relationType'] == \"CRUD\":#and (r['from'] in persistent_set and r['to'] in persistent_set):\n",
    "        print(r['relationType'])\n",
    "        print(entities_dict.get(r['from'])['entityFullQualifiedName'])\n",
    "        print(entities_dict.get(r['to'])['entityFullQualifiedName'])\n",
    "        for inner_r in relations:\n",
    "            if inner_r['to'] == r['to'] and inner_r['relationType'] == \"ORM\":\n",
    "                print(inner_r['relationType'])\n",
    "                print(entities_dict.get(inner_r['from'])['entityFullQualifiedName'])\n",
    "                print(entities_dict.get(inner_r['to'])['entityFullQualifiedName'])\n",
    "                crud_dict[r['from']] = inner_r['from']\n",
    "\n",
    "print(crud_dict)"
   ],
   "metadata": {
    "collapsed": false
   }
  },
  {
   "cell_type": "code",
   "execution_count": null,
   "outputs": [],
   "source": [
    "def visualize_graph(_graph: nx.Graph, fig_size=6, iterate=200):\n",
    "    # Visualize the graph\n",
    "    plt.figure(figsize=(fig_size, fig_size))\n",
    "    shapes = set((aShape[1][\"node_shape\"] for aShape in _graph.nodes(data = True)))\n",
    "    colors = set((aColor[1][\"color\"] for aColor in _graph.nodes(data = True)))\n",
    "    pos = nx.spring_layout(_graph, seed=42, k=2.4, iterations=iterate)\n",
    "    for _shape in shapes:\n",
    "        for _color in colors:\n",
    "            nx.draw_networkx_nodes(_graph, pos, node_color=_color, node_shape=_shape, node_size=(500+(-100 if _shape == \"s\" else 0)+(100 if _shape == \"p\" else 0)),\n",
    "                                   nodelist=[sNode[0] for sNode in filter(lambda _x: _x[1][\"node_shape\"]==_shape and _x[1][\"color\"]==_color,_graph.nodes(data = True))])\n",
    "    edge_colors = nx.get_edge_attributes(_graph,\"color\")\n",
    "    #nx.draw_networkx_edges(_graph, pos, edge_color=\"grey\")\n",
    "    nx.draw_networkx_edges(_graph, pos, edge_color=edge_colors.values())\n",
    "    nx.draw_networkx_labels(_graph, pos, font_size=9, font_family=\"sans-serif\", font_color=\"#ffffff\")\n",
    "    #nx.draw_networkx_edge_labels(\n",
    "    #    _graph, pos, edge_labels={(u, v): d[\"weight\"] for u, v, d in _graph.edges(data=True)}\n",
    "    #)\n",
    "    ax = plt.gca()\n",
    "    ax.margins(0.08)\n",
    "    plt.axis(\"off\")\n",
    "    plt.tight_layout()\n",
    "    plt.show()\n"
   ],
   "metadata": {
    "collapsed": false
   }
  },
  {
   "cell_type": "code",
   "execution_count": null,
   "outputs": [],
   "source": [
    "G = nx.MultiDiGraph()\n",
    "new_ids = 0\n",
    "blue = \"#133569\"\n",
    "green = \"#13692a\"\n",
    "red = \"#691313\"\n",
    "purple = \"#4e1369\"\n",
    "pink = \"#F64CF4\"\n",
    "dark_red = \"#ac0010\"\n",
    "cyan = \"#2FEBF6\"\n",
    "mint = \"#00ff88\"\n",
    "yellow = \"#B2B200\"\n",
    "#add nodes\n",
    "for e in entities:\n",
    "    color = \"\"\n",
    "    if e['entityId'] in persistent_set:\n",
    "        color = green\n",
    "    elif e['entityId'] in crud_dict.keys():\n",
    "        color = purple\n",
    "    else:\n",
    "        color = blue\n",
    "    for m in e['methods']:\n",
    "        G.add_node(new_ids,identity=m['identity'],parameters=m['parameters'],returnType=m['returnType'],fields=m['fields'],color=color,node_shape=\"o\")\n",
    "        #print(e['entityId'],new_ids)\n",
    "        new_ids = new_ids+1\n",
    "#add call edges\n",
    "identity_dict:dict = nx.get_node_attributes(G, \"identity\")\n",
    "for e in entities:\n",
    "    for m in e['methods']:\n",
    "        _from = list(identity_dict.keys())[list(identity_dict.values()).index(m['identity'])]\n",
    "        for c in m['invocations']:\n",
    "            _to = list(identity_dict.keys())[list(identity_dict.values()).index(c)]\n",
    "            G.add_edge(_from,_to,weight=0.8,name=\"CALL\",color=pink)\n",
    "#remove unused nodes\n",
    "list_of_unconnected_nodes = [node for node in G.nodes if G.degree(node) == 0]\n",
    "for n in list_of_unconnected_nodes:\n",
    "    G.remove_node(n)\n",
    "#add persistence entities\n",
    "for e in persistent_set:\n",
    "    color = red\n",
    "    G.add_node(new_ids,name=entities_dict.get(e)['entityFullQualifiedName'],color=color,node_shape=\"p\")\n",
    "    new_ids = new_ids+1\n",
    "#red to red references\n",
    "name_dict:dict = nx.get_node_attributes(G, \"name\")\n",
    "for r in relations:\n",
    "    if not r['from'] == r['to'] and (r['from'] in persistent_set and r['to'] in persistent_set) and r['relationType'] == \"FIELD\":\n",
    "        G.add_edge(list(name_dict.keys())[list(name_dict.values()).index(entities_dict.get(r['from'])['entityFullQualifiedName'])],\n",
    "                   list(name_dict.keys())[list(name_dict.values()).index(entities_dict.get(r['to'])['entityFullQualifiedName'])],\n",
    "                   weight=0.2,name='REFERENCES',color=dark_red)\n",
    "for r in relations:\n",
    "    if not r['from'] == r['to'] and (r['from'] in persistent_set and r['to'] in persistent_set) and r['relationType'] == \"INHERITANCE\":\n",
    "        G.add_edge(list(name_dict.keys())[list(name_dict.values()).index(entities_dict.get(r['from'])['entityFullQualifiedName'])],\n",
    "                   list(name_dict.keys())[list(name_dict.values()).index(entities_dict.get(r['to'])['entityFullQualifiedName'])],\n",
    "                   weight=0.0,name='EXTENDS',color=cyan)\n",
    "#merge green into red\n",
    "for e in persistent_set:\n",
    "    identity_dict:dict = nx.get_node_attributes(G, \"identity\")\n",
    "    e = entities_dict.get(e)\n",
    "    _graph_entity_id = list(name_dict.keys())[list(name_dict.values()).index(e['entityFullQualifiedName'])]\n",
    "    for m in e['methods']:\n",
    "        try:\n",
    "            method_to_connect = list(identity_dict.keys())[list(identity_dict.values()).index(m['identity'])]\n",
    "            G = nx.contracted_nodes(G,_graph_entity_id,method_to_connect)\n",
    "        except ValueError:\n",
    "            continue\n",
    "#add edges purple to red\n",
    "for e in crud_dict.keys():\n",
    "    identity_dict:dict = nx.get_node_attributes(G, \"identity\")\n",
    "    target_e = entities_dict.get(crud_dict.get(e))\n",
    "    e = entities_dict.get(e)\n",
    "    _graph_entity_id = list(name_dict.keys())[list(name_dict.values()).index(target_e['entityFullQualifiedName'])]\n",
    "    for m in e['methods']:\n",
    "        try:\n",
    "            method_to_connect = list(identity_dict.keys())[list(identity_dict.values()).index(m['identity'])]\n",
    "            G.add_edge(method_to_connect,_graph_entity_id,weight=1.0,name='PERSISTS',color=mint)\n",
    "            G.nodes.get(method_to_connect)['node_shape'] = \"s\"\n",
    "            #print(f\"crud method from {e['entityFullQualifiedName']} connected to {target_e['entityFullQualifiedName']}\")\n",
    "        except ValueError:\n",
    "            #print(f\"crud method from {e['entityFullQualifiedName']} not found! (removed because of missing connection.)\")\n",
    "            continue\n",
    "#add edges blue to red\n",
    "for _red_node in G.nodes():\n",
    "    if G.nodes.get(_red_node)['color'] == red:\n",
    "        for _blue_node in G.nodes():\n",
    "            if G.nodes.get(_blue_node)['color'] == blue:\n",
    "                _all_field_types = \"\"\n",
    "                _blue_node_field_list = G.nodes.get(_blue_node)['parameters']\n",
    "                for _field_dict in _blue_node_field_list:\n",
    "                    _all_field_types = _all_field_types + _field_dict['type']\n",
    "                if G.nodes.get(_red_node)['name'] in G.nodes.get(_blue_node)['returnType']\\\n",
    "                        or G.nodes.get(_red_node)['name'] in G.nodes.get(_blue_node)['fields']\\\n",
    "                        or G.nodes.get(_red_node)['name'] in _all_field_types:\n",
    "                    #print(G.nodes.get(_red_node)['name'],G.nodes.get(_blue_node)['identity'])\n",
    "                    G.add_edge(_blue_node,_red_node,weight=0.6,name=\"USES\",color=yellow)\n",
    "print(G)\n",
    "visualize_graph(G, fig_size=15, iterate=1000)"
   ],
   "metadata": {
    "collapsed": false
   }
  },
  {
   "cell_type": "code",
   "execution_count": null,
   "outputs": [],
   "source": [
    "_entity_set = set()\n",
    "for _red_node in G.nodes():\n",
    "    if G.nodes.get(_red_node)['color'] == red:\n",
    "        _entity_set.add(_red_node)\n",
    "entity_graph = nx.subgraph(G, _entity_set)\n",
    "print(entity_graph)\n",
    "visualize_graph(entity_graph, fig_size=6, iterate=220)"
   ],
   "metadata": {
    "collapsed": false
   }
  },
  {
   "cell_type": "code",
   "execution_count": null,
   "outputs": [],
   "source": [
    "entity_groupings = nx.community.louvain_communities(entity_graph, seed=42)\n",
    "print(f\"found {len(entity_groupings)} entity cluster with an average of: {round((len(entity_graph.nodes())/len(entity_groupings)),2)} nodes per cluster\")"
   ],
   "metadata": {
    "collapsed": false
   }
  },
  {
   "cell_type": "code",
   "execution_count": null,
   "outputs": [],
   "source": [
    "from colorutils import Color\n",
    "def get_random_color(brightness:float)->str:\n",
    "    _c:Color = Color(hsv=(int(random.randint(0, 359)), 1.0, brightness))\n",
    "    return _c.hex"
   ],
   "metadata": {
    "collapsed": false
   }
  },
  {
   "cell_type": "code",
   "execution_count": null,
   "outputs": [],
   "source": [
    "sub_entity_graph = entity_graph.copy()\n",
    "for subset in entity_groupings:\n",
    "    color = get_random_color(0.5)\n",
    "    for _sub_node in subset:\n",
    "        sub_entity_graph.nodes[_sub_node]['color'] = color\n",
    "visualize_graph(sub_entity_graph, fig_size=6, iterate=220)"
   ],
   "metadata": {
    "collapsed": false
   }
  },
  {
   "cell_type": "code",
   "execution_count": null,
   "outputs": [],
   "source": [
    "for subset in entity_groupings:\n",
    "            _grouping_graph = nx.subgraph(entity_graph, subset)\n",
    "            visualize_graph(_grouping_graph)"
   ],
   "metadata": {
    "collapsed": false
   }
  },
  {
   "cell_type": "code",
   "execution_count": null,
   "outputs": [],
   "source": [
    "groupings = nx.community.louvain_communities(G, seed=42)"
   ],
   "metadata": {
    "collapsed": false
   }
  },
  {
   "cell_type": "code",
   "execution_count": null,
   "outputs": [],
   "source": [
    "G2 = G.copy()\n",
    "for subset in groupings:\n",
    "    color = get_random_color(0.5)\n",
    "    for _sub_node in subset:\n",
    "        G2.nodes[_sub_node]['color'] = color\n",
    "visualize_graph(G2, fig_size=15, iterate=1000)"
   ],
   "metadata": {
    "collapsed": false
   }
  },
  {
   "cell_type": "code",
   "execution_count": null,
   "outputs": [],
   "source": [
    "for subset in groupings:\n",
    "            _grouping_graph = nx.subgraph(G, subset)\n",
    "            visualize_graph(_grouping_graph)"
   ],
   "metadata": {
    "collapsed": false
   }
  },
  {
   "cell_type": "code",
   "execution_count": null,
   "outputs": [],
   "source": [
    "cluster_map:dict = {}\n",
    "for _e,_entity_cluster in enumerate(entity_groupings):\n",
    "    cluster_map[_e]:list = list(_entity_cluster)\n",
    "print(cluster_map)"
   ],
   "metadata": {
    "collapsed": false
   }
  },
  {
   "cell_type": "code",
   "execution_count": null,
   "outputs": [],
   "source": [
    "from pulp import LpVariable, LpProblem, LpMinimize, LpStatus, value, lpSum\n",
    "\n",
    "model = LpProblem(\"Minimal_MS_Architecture\", LpMinimize)\n",
    "x_values = {(i,k) for i in G.nodes() for k in range(len(entity_groupings))}\n",
    "model.x = LpVariable.dicts(\"x\",indices=x_values,cat='Binary')\n",
    "z_values = {(i,j,k) for (i,j) in G.edges() for k in range(len(entity_groupings))}\n",
    "model.z = LpVariable.dicts(\"z\",indices=z_values,cat='Binary')\n",
    "y_values = {(i,j) for (i,j) in G.edges()}\n",
    "model.y = LpVariable.dicts(\"y\",indices=y_values,cat=\"Binary\")\n",
    "for i in G.nodes():\n",
    "    model += lpSum(model.x[i,k] == 1 for k in range(len(entity_groupings)))\n",
    "for k in range(len(entity_groupings)):\n",
    "    model += lpSum(model.x[i,k] for i in G.nodes() if G.nodes.get(i)['node_shape']!='p') >= 1\n",
    "for (i,j) in G.edges():\n",
    "    for k in range(len(entity_groupings)):\n",
    "        model += model.z[i,j,k]-model.x[i,k] <= 0\n",
    "        model += model.z[i,j,k]-model.x[j,k] <= 0\n",
    "        model += model.x[i,k]+model.x[j,k]-model.z[i,j,k] <= 1\n",
    "    model += model.y[i,j] == lpSum(model.z[i,j,k] for k in range(len(entity_groupings)))\n",
    "for k,_entities in enumerate(cluster_map.values()):\n",
    "    for i in _entities:\n",
    "        model += model.x[i,k] == 1\n",
    "for i,j in y_values:\n",
    "    set_i:set = list(filter(lambda _sub: (i in _sub), groupings))[0]\n",
    "    set_j:set = list(filter(lambda _sub: (j in _sub), groupings))[0]\n",
    "    if len(set_i) != 0 and len(set_j) != 0 and groupings.index(set_i) == groupings.index(set_j):\n",
    "        model += model.y[i,j] == 1\n",
    "\n",
    "model += lpSum(G.edges.get(_tuple)['weight']*(1-model.y[_tuple[0],_tuple[1]]) for _tuple in G.edges)\n",
    "\n",
    "status = model.solve()\n",
    "print(LpStatus[status])"
   ],
   "metadata": {
    "collapsed": false
   }
  },
  {
   "cell_type": "code",
   "execution_count": null,
   "outputs": [],
   "source": [
    "#build solution graphs\n",
    "solution_graph_dict:dict = {}\n",
    "for k in range(len(entity_groupings)):\n",
    "    _solution_graph:nx.MultiDiGraph = nx.MultiDiGraph()\n",
    "    solution_graph_dict[k] = _solution_graph\n",
    "for (i,j,k) in z_values:\n",
    "    if value(model.x[i,k]):\n",
    "        solution_graph_dict.get(k).add_node(i,node_shape=G.nodes.get(i)['node_shape'],color=G.nodes.get(i)['color'])\n",
    "    if value(model.z[i,j,k]):\n",
    "        solution_graph_dict.get(k).add_node(j,node_shape=G.nodes.get(j)['node_shape'],color=G.nodes.get(j)['color'])\n",
    "        solution_graph_dict.get(k).add_edge(i,j,color=(G.edges.get((i,j,0))['color']))\n",
    "#visualize solution graphs\n",
    "for k in range(len(entity_groupings)):\n",
    "    visualize_graph(solution_graph_dict.get(k),10,250)"
   ],
   "metadata": {
    "collapsed": false
   }
  },
  {
   "cell_type": "code",
   "execution_count": null,
   "outputs": [],
   "source": [
    "_duplicated_nodes:set = set()\n",
    "for i in G.nodes():\n",
    "    for k in range(len(entity_groupings)):\n",
    "        if model.x[i,k] == 1.0 and model.x[i,1-k] == 1.0:\n",
    "            _duplicated_nodes.add(i)\n",
    "#visualize solution graphs combined\n",
    "_colored_G2:nx.DiGraph = nx.DiGraph()\n",
    "for k in range(len(entity_groupings)):\n",
    "    color = get_random_color(0.5)\n",
    "    for _node in solution_graph_dict.get(k).nodes():\n",
    "        _colored_G2.add_node(f\"{_node}_{k}\",color=color,node_shape=G.nodes.get(_node)['node_shape'])\n",
    "    for (i,j) in solution_graph_dict.get(k).edges():\n",
    "        _colored_G2.add_edge(f\"{i}_{k}\",f\"{j}_{k}\",color=color,weight=100)\n",
    "for (i,j) in y_values:\n",
    "    if value(model.y[i,j] == 0.0):\n",
    "        for k in range(len(entity_groupings)):\n",
    "            if value(model.x[i,k]) and value(model.x[j,1-k]) and i not in _duplicated_nodes and j not in _duplicated_nodes:\n",
    "                _colored_G2.add_edge(f\"{i}_{k}\",f\"{j}_{1-k}\",color=\"#000000\",weight=0.00001)\n",
    "visualize_graph(_colored_G2,30,400)\n",
    "# Compute cohesion:\n",
    "inside_w = dict()\n",
    "outside_w = dict()\n",
    "\n",
    "for i,j in G.edges():\n",
    "    for k in range(len(entity_groupings)):\n",
    "        if model.z[i,j,k] == 1: # Edge (i,j) is inside microservice k: sum the weight as inside\n",
    "            inside_w[k] = inside_w.get(k, 0) + G[i][j]['weight']\n",
    "        if model.x[i,k] == 1: # Edge (i,j) has its origin in k: sum the weigh as outside\n",
    "            outside_w[k] = outside_w.get(k, 0) + G[i][j]['weight']\n",
    "\n",
    "cohesion_dict = dict()\n",
    "for k in  range(len(entity_groupings)):\n",
    "    cohesion_dict[k] = inside_w[k] / outside_w[k]\n",
    "\n",
    "cohesion = sum(cohesion_dict.values())/len(entity_groupings)"
   ],
   "metadata": {
    "collapsed": false
   }
  }
 ],
 "metadata": {
  "kernelspec": {
   "display_name": "Python 3",
   "language": "python",
   "name": "python3"
  },
  "language_info": {
   "codemirror_mode": {
    "name": "ipython",
    "version": 2
   },
   "file_extension": ".py",
   "mimetype": "text/x-python",
   "name": "python",
   "nbconvert_exporter": "python",
   "pygments_lexer": "ipython2",
   "version": "2.7.6"
  }
 },
 "nbformat": 4,
 "nbformat_minor": 0
}
